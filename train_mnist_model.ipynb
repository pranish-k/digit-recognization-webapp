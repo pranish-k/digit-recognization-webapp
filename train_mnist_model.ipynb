{
 "cells": [
  {
   "cell_type": "code",
   "execution_count": 10,
   "metadata": {},
   "outputs": [],
   "source": [
    "import pandas as pd\n",
    "import numpy as np\n",
    "import matplotlib.pyplot as plt\n",
    "import seaborn as sns\n",
    "import os\n",
    "import tensorflow as tf"
   ]
  },
  {
   "cell_type": "code",
   "execution_count": 11,
   "metadata": {},
   "outputs": [],
   "source": [
    "#load mnist data\n",
    "mnist = tf.keras.datasets.mnist\n",
    "mnist_data = mnist.load_data()"
   ]
  },
  {
   "cell_type": "code",
   "execution_count": 12,
   "metadata": {},
   "outputs": [],
   "source": [
    "train = mnist_data[0][0]\n",
    "test =  mnist_data[1][0]\n",
    "\n",
    "train_label = mnist_data[0][1]\n",
    "test_label = mnist_data[1][1]"
   ]
  },
  {
   "cell_type": "code",
   "execution_count": 13,
   "metadata": {},
   "outputs": [],
   "source": [
    "\n",
    "train = train.astype('float32')\n",
    "train = train/255\n",
    "\n",
    "test = test.astype('float32')\n",
    "test = test/255\n"
   ]
  },
  {
   "cell_type": "code",
   "execution_count": 14,
   "metadata": {},
   "outputs": [
    {
     "name": "stdout",
     "output_type": "stream",
     "text": [
      "Epoch 1/10\n",
      "1875/1875 [==============================] - 1s 486us/step - loss: 0.4486 - accuracy: 0.8705\n",
      "Epoch 2/10\n",
      "1875/1875 [==============================] - 1s 481us/step - loss: 0.2426 - accuracy: 0.9306\n",
      "Epoch 3/10\n",
      "1875/1875 [==============================] - 1s 484us/step - loss: 0.2083 - accuracy: 0.9395\n",
      "Epoch 4/10\n",
      "1875/1875 [==============================] - 1s 495us/step - loss: 0.1859 - accuracy: 0.9455\n",
      "Epoch 5/10\n",
      "1875/1875 [==============================] - 1s 484us/step - loss: 0.1706 - accuracy: 0.9507\n",
      "Epoch 6/10\n",
      "1875/1875 [==============================] - 1s 484us/step - loss: 0.1603 - accuracy: 0.9525\n",
      "Epoch 7/10\n",
      "1875/1875 [==============================] - 1s 482us/step - loss: 0.1516 - accuracy: 0.9555\n",
      "Epoch 8/10\n",
      "1875/1875 [==============================] - 1s 481us/step - loss: 0.1456 - accuracy: 0.9575\n",
      "Epoch 9/10\n",
      "1875/1875 [==============================] - 1s 480us/step - loss: 0.1398 - accuracy: 0.9588\n",
      "Epoch 10/10\n",
      "1875/1875 [==============================] - 1s 496us/step - loss: 0.1359 - accuracy: 0.9600\n",
      "313/313 - 0s - loss: 0.1713 - accuracy: 0.9513 - 176ms/epoch - 563us/step\n",
      "\n",
      "Test accuracy: 0.9513000249862671\n"
     ]
    }
   ],
   "source": [
    "#neural network with 2 hidden layers of 16 neurons and output of 10 neurons\n",
    "model = tf.keras.models.Sequential([\n",
    "    tf.keras.layers.Flatten(input_shape=(28, 28)),\n",
    "    tf.keras.layers.Dense(16, activation='relu'),\n",
    "    tf.keras.layers.Dense(16, activation='relu'),\n",
    "    tf.keras.layers.Dense(10, activation='softmax')\n",
    "])\n",
    "\n",
    "model.compile(optimizer='adam',\n",
    "                loss='sparse_categorical_crossentropy',\n",
    "                metrics=['accuracy'])\n",
    "\n",
    "model.fit(train, train_label, epochs=10)\n",
    "\n",
    "test_loss, test_acc = model.evaluate(test,  test_label, verbose=2)\n",
    "\n",
    "print('\\nTest accuracy:', test_acc)\n"
   ]
  },
  {
   "cell_type": "code",
   "execution_count": null,
   "metadata": {},
   "outputs": [],
   "source": []
  }
 ],
 "metadata": {
  "kernelspec": {
   "display_name": "Python 3 (ipykernel)",
   "language": "python",
   "name": "python3"
  },
  "language_info": {
   "codemirror_mode": {
    "name": "ipython",
    "version": 3
   },
   "file_extension": ".py",
   "mimetype": "text/x-python",
   "name": "python",
   "nbconvert_exporter": "python",
   "pygments_lexer": "ipython3",
   "version": "3.11.0"
  }
 },
 "nbformat": 4,
 "nbformat_minor": 4
}
